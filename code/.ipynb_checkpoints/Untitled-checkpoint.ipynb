{
 "cells": [
  {
   "cell_type": "code",
   "execution_count": null,
   "id": "abf29fdd-f6fb-4491-a64d-328a922add2b",
   "metadata": {},
   "outputs": [],
   "source": [
    "3 * 3\n"
   ]
  },
  {
   "cell_type": "code",
   "execution_count": null,
   "id": "b1a4c8cc-8714-49ed-90c3-56ff146d777c",
   "metadata": {},
   "outputs": [],
   "source": []
  },
  {
   "cell_type": "code",
   "execution_count": null,
   "id": "c5b91a7c-a1ef-4c83-b54c-33561e760fce",
   "metadata": {},
   "outputs": [],
   "source": []
  },
  {
   "cell_type": "code",
   "execution_count": null,
   "id": "57d46fb8-d9f7-43ed-8c19-7c1b547c9ef4",
   "metadata": {},
   "outputs": [],
   "source": [
    "4 / 5"
   ]
  },
  {
   "cell_type": "code",
   "execution_count": null,
   "id": "61babf0c-88e5-46de-a2c7-3e0e45ef58c1",
   "metadata": {},
   "outputs": [],
   "source": [
    "import numpy as np\n",
    "arr = np.array([1,2,3,4,5,6])\n",
    "arr[1:3]\n"
   ]
  },
  {
   "cell_type": "code",
   "execution_count": null,
   "id": "85f021f0-8ac4-431d-aa29-6b78f75deb65",
   "metadata": {},
   "outputs": [],
   "source": [
    "import numpy as np"
   ]
  },
  {
   "cell_type": "code",
   "execution_count": null,
   "id": "b35ebea6-386c-447e-9fc5-6f8e703c79b1",
   "metadata": {},
   "outputs": [],
   "source": [
    "arr = np.array([1,2,3,4,5,6])"
   ]
  },
  {
   "cell_type": "code",
   "execution_count": null,
   "id": "4499a6d5-3544-4928-a7a0-06089e939b3a",
   "metadata": {},
   "outputs": [],
   "source": [
    "arr[1:3]"
   ]
  },
  {
   "cell_type": "code",
   "execution_count": null,
   "id": "3742af41-756e-4107-b2d3-3e1c57b23bfb",
   "metadata": {},
   "outputs": [],
   "source": [
    "a = [1,2,3,4]\n",
    "a[1:3]"
   ]
  },
  {
   "cell_type": "code",
   "execution_count": null,
   "id": "776154cd-be75-4daf-ac8b-b10278b25478",
   "metadata": {},
   "outputs": [],
   "source": [
    "import pandas as pd\n",
    "pd.r?"
   ]
  },
  {
   "cell_type": "code",
   "execution_count": null,
   "id": "c134df79-e1b0-41f9-b2e3-1a05816003a4",
   "metadata": {},
   "outputs": [],
   "source": [
    "pd.read_csv?"
   ]
  },
  {
   "cell_type": "code",
   "execution_count": null,
   "id": "df6b38bc-7f9a-41e2-ba80-cf23edf5fb45",
   "metadata": {},
   "outputs": [],
   "source": [
    "pd.read_csv('Data/sms/Health facility sms service report 2021_01_01 to 2022_12_31.csv')"
   ]
  },
  {
   "cell_type": "code",
   "execution_count": null,
   "id": "88e2abca-379d-4ea9-9e0e-0902d0f02cff",
   "metadata": {},
   "outputs": [],
   "source": [
    "import pandas as pd\n",
    "df = pd.read_csv('Data/sms/Health facility sms service report 2021_01_01 to 2022_12_31.csv')\n",
    "df"
   ]
  },
  {
   "cell_type": "code",
   "execution_count": null,
   "id": "5f5bb9ef-136d-488b-b533-c0213ff07282",
   "metadata": {},
   "outputs": [],
   "source": [
    "df.head()"
   ]
  },
  {
   "cell_type": "code",
   "execution_count": null,
   "id": "ed6b3f0e-b485-4da6-be93-a9f047977935",
   "metadata": {},
   "outputs": [],
   "source": [
    "import os\n",
    "a = os.listdir()\n",
    "a"
   ]
  },
  {
   "cell_type": "code",
   "execution_count": null,
   "id": "8631363f-2b00-4a44-983c-8e091657b720",
   "metadata": {},
   "outputs": [],
   "source": [
    "b = os.listdir('Data/Service')\n",
    "b"
   ]
  },
  {
   "cell_type": "code",
   "execution_count": null,
   "id": "82937162-f106-49bd-9e6c-85908b4df24f",
   "metadata": {},
   "outputs": [],
   "source": [
    "a = os.listdir('Data/sms')\n",
    "a"
   ]
  },
  {
   "cell_type": "code",
   "execution_count": null,
   "id": "97505103-978a-4847-a24b-b49f20dab2b9",
   "metadata": {},
   "outputs": [],
   "source": [
    "files = [file for file in a]\n",
    "df1 = map(pd.read_csv,files)\n",
    "df1"
   ]
  },
  {
   "cell_type": "code",
   "execution_count": null,
   "id": "6df0be3c-954c-4293-bf0f-f56cd8e5c278",
   "metadata": {
    "scrolled": true
   },
   "outputs": [],
   "source": [
    "f1 = pd.read_csv('Data/sms/Health facility sms service report 2021_01_01 to 2022_12_31.csv')\n",
    "f2 = pd.read_csv('Data/sms/Health facility sms service report 2023_01_01 to 2023_03_31.csv')\n",
    "f3= pd.read_csv('Data/sms/Health facility sms service report 2023_04_01 to 2023_05_31.csv')\n",
    "df2 = pd.concat([f1, f2.reset_index(drop=True),f3.reset_index(drop=True)], axis=0)\n",
    "df2"
   ]
  },
  {
   "cell_type": "code",
   "execution_count": null,
   "id": "0364495b-e397-45cf-b305-94702adc807e",
   "metadata": {
    "scrolled": true
   },
   "outputs": [],
   "source": [
    "df2.to_excel(\"Data\\sms\\SMS_DATA.xlsx\",engine='xlsxwriter',sheet_name='SMS_DATA',header=True)"
   ]
  },
  {
   "cell_type": "code",
   "execution_count": null,
   "id": "ebe6da99-a327-4861-80ef-5a645d0d506b",
   "metadata": {},
   "outputs": [],
   "source": [
    "s1 = pd.read_excel('Data/Service/service_report (Apr 2023 - May 2023).xls')\n",
    "s2 = pd.read_excel('Data/Service/service_report (Dec 2022).xls')\n",
    "s3= pd.read_excel('Data/Service/service_report (Feb 2023).xls')\n",
    "s4 = pd.read_excel('Data/Service/service_report (Jan 2023).xls')\n",
    "s5 = pd.read_excel('Data/Service/service_report (Mar 2023).xls')\n",
    "s6 = pd.read_excel('Data/Service/service_report (Nov 2022).xls')\n",
    "s7 = pd.read_excel('Data/Service/service.xlsx')\n",
    "df3 = pd.concat([s1,s2,s3,s4,s5,s6,s7 ],axis=0)\n",
    "df3.reset_index()\n",
    "df3"
   ]
  },
  {
   "cell_type": "code",
   "execution_count": null,
   "id": "5d78e549-5888-4ad1-8997-4d92be088041",
   "metadata": {},
   "outputs": [],
   "source": [
    "df3.to_excel(\"Data\\Service\\SERVICE_REPORT.xlsx\",engine='xlsxwriter',sheet_name='SERVICE_REPORT_1',header=True)"
   ]
  },
  {
   "cell_type": "code",
   "execution_count": null,
   "id": "28fd8162-f3fd-4645-8016-72f701ad8664",
   "metadata": {},
   "outputs": [],
   "source": [
    "import os\n",
    "c  = os.listdir('Data/monthly_dump')\n",
    "c"
   ]
  },
  {
   "cell_type": "code",
   "execution_count": null,
   "id": "0162217c-a004-40d0-b1e0-a812d4b8acd4",
   "metadata": {},
   "outputs": [],
   "source": []
  },
  {
   "cell_type": "code",
   "execution_count": null,
   "id": "feaf5a7c-cdeb-4c3e-b00d-372bc35c22da",
   "metadata": {},
   "outputs": [],
   "source": []
  },
  {
   "cell_type": "code",
   "execution_count": null,
   "id": "6bda2152-7ae6-4ef9-9d18-1b4928b701e9",
   "metadata": {},
   "outputs": [],
   "source": []
  },
  {
   "cell_type": "code",
   "execution_count": null,
   "id": "84891877-62d1-4e52-ba4f-48747e113f8c",
   "metadata": {},
   "outputs": [],
   "source": []
  },
  {
   "cell_type": "code",
   "execution_count": null,
   "id": "271e04f5-33fd-47b2-8896-8d69b863a36a",
   "metadata": {},
   "outputs": [],
   "source": []
  },
  {
   "cell_type": "code",
   "execution_count": null,
   "id": "0fd7b7c6-e3ef-4eb6-98de-eb1bf231b0fe",
   "metadata": {},
   "outputs": [],
   "source": []
  },
  {
   "cell_type": "code",
   "execution_count": null,
   "id": "f1739b2c-5520-4057-a925-3e16a75ad9f0",
   "metadata": {},
   "outputs": [],
   "source": []
  },
  {
   "cell_type": "code",
   "execution_count": null,
   "id": "fadf1086-3816-4d0f-b69d-29d6b6a4ab67",
   "metadata": {},
   "outputs": [],
   "source": []
  },
  {
   "cell_type": "code",
   "execution_count": null,
   "id": "dd626cee-ee55-43f3-837e-869735fbe7f4",
   "metadata": {},
   "outputs": [],
   "source": []
  },
  {
   "cell_type": "code",
   "execution_count": null,
   "id": "f13cbb60-97aa-4164-8ba4-bd25d2971ada",
   "metadata": {},
   "outputs": [],
   "source": []
  },
  {
   "cell_type": "code",
   "execution_count": null,
   "id": "7cd72fa6-fd3f-4eb1-991b-170ec10bf87f",
   "metadata": {},
   "outputs": [],
   "source": []
  },
  {
   "cell_type": "code",
   "execution_count": null,
   "id": "0f6b82ac-95a9-4678-999c-e0a5c177d67c",
   "metadata": {},
   "outputs": [],
   "source": []
  }
 ],
 "metadata": {
  "kernelspec": {
   "display_name": "Python 3 (ipykernel)",
   "language": "python",
   "name": "python3"
  },
  "language_info": {
   "codemirror_mode": {
    "name": "ipython",
    "version": 3
   },
   "file_extension": ".py",
   "mimetype": "text/x-python",
   "name": "python",
   "nbconvert_exporter": "python",
   "pygments_lexer": "ipython3",
   "version": "3.10.5"
  }
 },
 "nbformat": 4,
 "nbformat_minor": 5
}
